{
 "cells": [
  {
   "cell_type": "code",
   "execution_count": 40,
   "metadata": {},
   "outputs": [],
   "source": [
    "class Blacpink :\n",
    "    def __init__(self, name , age) -> None:\n",
    "        self.name = name\n",
    "        self.age = age\n",
    "    def set_member(self, name) :\n",
    "        self.name = name\n",
    "    def show_member(self) :\n",
    "        return self.name\n",
    "    def set_age(self, age) :\n",
    "        self.age = age\n",
    "    def show_age(self) :\n",
    "        return self.age\n",
    "    "
   ]
  },
  {
   "cell_type": "code",
   "execution_count": 41,
   "metadata": {},
   "outputs": [],
   "source": [
    "# o1 = Blacpink(\"Jennie\", 20)"
   ]
  },
  {
   "cell_type": "code",
   "execution_count": 42,
   "metadata": {},
   "outputs": [],
   "source": [
    "class ChildBlack(Blacpink) :\n",
    "    def __init__(self, name, age) -> None:\n",
    "        super().__init__(name, age)\n",
    "    def show_member(self):\n",
    "        return super().show_member()"
   ]
  },
  {
   "cell_type": "code",
   "execution_count": 43,
   "metadata": {},
   "outputs": [
    {
     "data": {
      "text/plain": [
       "'Reo'"
      ]
     },
     "execution_count": 43,
     "metadata": {},
     "output_type": "execute_result"
    }
   ],
   "source": [
    "o2 = ChildBlack(\"Jihyoo Sapi\", 20)\n",
    "o2.show_member()"
   ]
  }
 ],
 "metadata": {
  "kernelspec": {
   "display_name": "Python 3",
   "language": "python",
   "name": "python3"
  },
  "language_info": {
   "name": "python",
   "version": "3.11.3"
  },
  "orig_nbformat": 4
 },
 "nbformat": 4,
 "nbformat_minor": 2
}
