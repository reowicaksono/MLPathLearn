{
 "cells": [
  {
   "cell_type": "code",
   "execution_count": 335,
   "metadata": {},
   "outputs": [],
   "source": [
    "import numpy as np\n",
    "import random"
   ]
  },
  {
   "cell_type": "code",
   "execution_count": 336,
   "metadata": {},
   "outputs": [],
   "source": [
    "data = np.array([1,2,3])\n",
    "\n"
   ]
  },
  {
   "cell_type": "code",
   "execution_count": 337,
   "metadata": {},
   "outputs": [
    {
     "name": "stdout",
     "output_type": "stream",
     "text": [
      "[[0.10351097 0.68481421 0.10504712 0.24640746]\n",
      " [0.90490238 0.84771042 0.22113308 0.80534044]\n",
      " [0.01253842 0.58444101 0.58139995 0.72836633]]\n"
     ]
    }
   ],
   "source": [
    "matriks = np.zeros((6,6))\n",
    "\n",
    "matriks = np.random.random((3, 4))\n",
    "print(matriks)\n"
   ]
  },
  {
   "cell_type": "code",
   "execution_count": 338,
   "metadata": {},
   "outputs": [],
   "source": [
    "array1 = np.array([1,2,3])\n",
    "array2 = np.array([4,5,6])\n",
    "array3 = np.array([7,8,9])"
   ]
  },
  {
   "attachments": {},
   "cell_type": "markdown",
   "metadata": {},
   "source": [
    "[NUMPY V STACK]\n",
    "\n",
    "nilai ini dapat distack tetapi hasilnya berupa vertikal "
   ]
  },
  {
   "cell_type": "code",
   "execution_count": 339,
   "metadata": {},
   "outputs": [
    {
     "data": {
      "text/plain": [
       "array([[1, 2, 3],\n",
       "       [4, 5, 6],\n",
       "       [7, 8, 9]])"
      ]
     },
     "execution_count": 339,
     "metadata": {},
     "output_type": "execute_result"
    }
   ],
   "source": [
    "\"\"\"\n",
    "[1,2,3]\n",
    "[4,5,6]\n",
    "[7,8,9]\n",
    "\"\"\"\n",
    "\n",
    "matriks = np.vstack([array1, array2, array3])\n",
    "matriks"
   ]
  },
  {
   "attachments": {},
   "cell_type": "markdown",
   "metadata": {},
   "source": [
    "[NUMPY H STACK]\n",
    "\n",
    "nilai ini dapat distack tetapi hasilnya berupa horizontal "
   ]
  },
  {
   "cell_type": "code",
   "execution_count": 340,
   "metadata": {},
   "outputs": [
    {
     "data": {
      "text/plain": [
       "array([1, 2, 3, 4, 5, 6, 7, 8, 9])"
      ]
     },
     "execution_count": 340,
     "metadata": {},
     "output_type": "execute_result"
    }
   ],
   "source": [
    "\"\"\"\n",
    "[1,2,3]\n",
    "[4,5,6]\n",
    "[7,8,9]\n",
    "\"\"\"\n",
    "\n",
    "matriks = np.hstack([array1, array2, array3])\n",
    "matriks"
   ]
  },
  {
   "attachments": {},
   "cell_type": "markdown",
   "metadata": {},
   "source": [
    "[NUMPY COLUMN STACK]\n",
    "\n",
    "nilai ini dapat distack tetapi hasilnya berupa column "
   ]
  },
  {
   "cell_type": "code",
   "execution_count": 341,
   "metadata": {},
   "outputs": [
    {
     "data": {
      "text/plain": [
       "array([[1, 4, 7],\n",
       "       [2, 5, 8],\n",
       "       [3, 6, 9]])"
      ]
     },
     "execution_count": 341,
     "metadata": {},
     "output_type": "execute_result"
    }
   ],
   "source": [
    "\"\"\"\n",
    "[1,2,3]\n",
    "[4,5,6]\n",
    "[7,8,9]\n",
    "\"\"\"\n",
    "matriks = np.column_stack([array1, array2, array3])\n",
    "matriks"
   ]
  },
  {
   "attachments": {},
   "cell_type": "markdown",
   "metadata": {},
   "source": [
    "INTERSECTION & DIFFERENCE"
   ]
  },
  {
   "cell_type": "code",
   "execution_count": 342,
   "metadata": {},
   "outputs": [],
   "source": [
    "arr1 = np.array([1,2,3,4,5,6])\n",
    "arr2 = np.array([5,6,7,8,9])"
   ]
  },
  {
   "attachments": {},
   "cell_type": "markdown",
   "metadata": {},
   "source": [
    "INTERSECTION\n",
    "yakni hanya mendapatkan nilai yang  ada di antara array"
   ]
  },
  {
   "cell_type": "code",
   "execution_count": 343,
   "metadata": {},
   "outputs": [
    {
     "data": {
      "text/plain": [
       "array([5, 6])"
      ]
     },
     "execution_count": 343,
     "metadata": {},
     "output_type": "execute_result"
    }
   ],
   "source": [
    "\"\"\"\n",
    "[1,2,3,4,5,6]\n",
    "[5,6,7,8,9]\n",
    "\"\"\"\n",
    "\n",
    "matriks = np.intersect1d(arr1,arr2)\n",
    "matriks"
   ]
  },
  {
   "attachments": {},
   "cell_type": "markdown",
   "metadata": {},
   "source": [
    "DIFFERENCE\n",
    "yakni mengambil nilai hanya pada satu array saja tetapi tidak ada nilai yg diantara array"
   ]
  },
  {
   "cell_type": "code",
   "execution_count": 344,
   "metadata": {},
   "outputs": [
    {
     "name": "stdout",
     "output_type": "stream",
     "text": [
      "ini diff1d [1 2 3 4] inidiff2 [7 8 9]\n"
     ]
    }
   ],
   "source": [
    "\"\"\"\n",
    "[1,2,3,4,5,6]\n",
    "[5,6,7,8,9]\n",
    "\"\"\"\n",
    "\n",
    "matriks = np.setdiff1d(arr1,arr2)\n",
    "matriks2 = np.setdiff1d(arr2,arr1)\n",
    "\n",
    "print(\"ini diff1d\", matriks, \"inidiff2\", matriks2)\n"
   ]
  },
  {
   "attachments": {},
   "cell_type": "markdown",
   "metadata": {},
   "source": [
    "ADDITION NUMPY"
   ]
  },
  {
   "cell_type": "code",
   "execution_count": 345,
   "metadata": {},
   "outputs": [
    {
     "name": "stdout",
     "output_type": "stream",
     "text": [
      "error\n",
      "45 [12 15 18] [ 6 15 24]\n"
     ]
    }
   ],
   "source": [
    "\"\"\"\n",
    "[1,2,3]\n",
    "[4,5,6]\n",
    "[7,8,9]\n",
    "\"\"\"\n",
    "\n",
    "matriks = np.sum([array1, array2, array3])\n",
    "\n",
    "matriks2 = np.sum([array1, array2, array3], axis=0)\n",
    "\n",
    "matriks3 = np.sum([array1, array2, array3], axis=1)\n",
    "\n",
    "array4 = np.array([10,11])\n",
    "\n",
    "try : \n",
    "    matriks4 = np.sum([array1, array2, array3,array4])\n",
    "    matriks4\n",
    "except : \n",
    "    print(\"error\")\n",
    "\n",
    "print(matriks, matriks2, matriks3)"
   ]
  },
  {
   "attachments": {},
   "cell_type": "markdown",
   "metadata": {},
   "source": [
    "LOCAL STORAGE NUMPY"
   ]
  },
  {
   "cell_type": "code",
   "execution_count": 346,
   "metadata": {},
   "outputs": [
    {
     "name": "stdout",
     "output_type": "stream",
     "text": [
      "None [1 2 3]\n"
     ]
    }
   ],
   "source": [
    "\"\"\"\n",
    "[1,2,3]\n",
    "[4,5,6]\n",
    "[7,8,9]\n",
    "\"\"\"\n",
    "\n",
    "save_matriks = np.save(\"test\", array1)\n",
    "\n",
    "load_matriks = np.load(\"test.npy\")\n",
    "\n",
    "print(save_matriks, load_matriks)"
   ]
  },
  {
   "attachments": {},
   "cell_type": "markdown",
   "metadata": {},
   "source": [
    "LATIHAN DATA NUMPY"
   ]
  },
  {
   "attachments": {},
   "cell_type": "markdown",
   "metadata": {},
   "source": [
    ":))))))))))))))))))) MAMAH AKU TAKUT :))))))))))))))))))))))))))))"
   ]
  },
  {
   "attachments": {},
   "cell_type": "markdown",
   "metadata": {},
   "source": [
    "MISALKAN NIH YA GAME BURIQUE HARVEST MOON kan ada tuh inventory kan ya, misal kita buat array data dengan jumlah 4 x 4 atau persegi jadi total nya kan 16 item yang bisa dimasukin tuh, nah gimana ya KALO item ke-4 kita ganti terus nantinya item tersebut berisi 3 data , atau 1 item berisi 3. nah bentuk inventory nya gini\n",
    "\n",
    "[\n",
    "    item 1,item2,0,0\n",
    "    0,item3,item4,0\n",
    "    0,item5,0,0\n",
    "    0,0,0,0\n",
    "\n",
    "]\n",
    "\n",
    "UNTUK BENTUKNYA TERSERAH MAU VERTIKAL HORIZONTAL BOLEH ATAU SEBALIKNYA ASAL SETIAP BARIS MINIMAL 2.\n",
    "\n",
    "OUTPUT YANG DIINGINKAN ADALAH\n",
    "\n",
    "[\n",
    "    item 1,item2,0,0\n",
    "    0,item3,item4,item4\n",
    "    item4,item5,0,0\n",
    "    0,0,0,0\n",
    "]\n",
    "PROSES WAJIB MENGGUNAKAN PRINSIP OOP "
   ]
  },
  {
   "cell_type": "code",
   "execution_count": 347,
   "metadata": {},
   "outputs": [],
   "source": [
    "class ParentInventory():\n",
    "    def __init__(self, name, mat):\n",
    "        self.name = name\n",
    "        self.price = mat\n",
    "     \n",
    "\n",
    "    def get_name(self):\n",
    "        return self.name\n",
    "\n",
    "    def set_name(self, name):\n",
    "        self.name = name\n",
    "    def get_mat(self):\n",
    "        return self.mat\n",
    "\n",
    "    def set_mat(self, mat):\n",
    "        self.mat = mat\n"
   ]
  },
  {
   "cell_type": "code",
   "execution_count": 348,
   "metadata": {},
   "outputs": [],
   "source": [
    "class ChildInvent(ParentInventory) : \n",
    "    def __init__(self, name, mat):\n",
    "        super().__init__(name, mat)\n",
    "        self.name = name\n",
    "    def matInvent(self) : \n",
    "        self.mat = np.zeros(4,4)\n",
    "        return self.mat\n"
   ]
  },
  {
   "cell_type": "code",
   "execution_count": 349,
   "metadata": {},
   "outputs": [
    {
     "data": {
      "text/plain": [
       "'child'"
      ]
     },
     "execution_count": 349,
     "metadata": {},
     "output_type": "execute_result"
    }
   ],
   "source": [
    "obje1 = ChildInvent(\"child\", np.array([[1,2,3,4],[5,6,7,8],[9,10,11,12]]))\n",
    "obje1.get_name()"
   ]
  }
 ],
 "metadata": {
  "kernelspec": {
   "display_name": "Python 3",
   "language": "python",
   "name": "python3"
  },
  "language_info": {
   "codemirror_mode": {
    "name": "ipython",
    "version": 3
   },
   "file_extension": ".py",
   "mimetype": "text/x-python",
   "name": "python",
   "nbconvert_exporter": "python",
   "pygments_lexer": "ipython3",
   "version": "3.11.3"
  },
  "orig_nbformat": 4
 },
 "nbformat": 4,
 "nbformat_minor": 2
}
